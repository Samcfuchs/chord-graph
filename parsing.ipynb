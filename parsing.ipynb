{
 "cells": [
  {
   "cell_type": "code",
   "execution_count": 1,
   "metadata": {},
   "outputs": [],
   "source": [
    "import time\n",
    "from selenium import webdriver\n",
    "from selenium.webdriver.chrome.options import Options\n",
    "from selenium.webdriver.common.by import By\n",
    "from selenium.webdriver import ActionChains\n",
    "from selenium.common.exceptions import NoSuchElementException\n",
    "\n",
    "from tqdm import tqdm"
   ]
  },
  {
   "cell_type": "markdown",
   "metadata": {},
   "source": [
    "## Grab Links\n",
    "\n",
    "First, we need a list of tabs. We can use the total hits ranking to get a bunch of links quickly."
   ]
  },
  {
   "cell_type": "code",
   "execution_count": 50,
   "metadata": {},
   "outputs": [],
   "source": [
    "URL = \"https://www.ultimate-guitar.com/explore?order=hitstotal_desc&page={}&type[]=Chords\"\n",
    "chrome_options = Options()\n",
    "chrome_options.add_argument(\"--headless\")\n",
    "chrome_options.add_argument(\"--window-size=2560,1440\")\n",
    "\n",
    "driver = webdriver.Chrome(options=chrome_options)\n",
    "driver.get(URL.format(0))"
   ]
  },
  {
   "cell_type": "code",
   "execution_count": 11,
   "metadata": {},
   "outputs": [],
   "source": [
    "URL = \"https://www.ultimate-guitar.com/explore?order=hitstotal_desc&page={}&type[]=Chords\"\n",
    "def get_page_links(page_number):\n",
    "    driver.get(URL.format(page_number))\n",
    "    elements = driver.find_elements(By.TAG_NAME, 'article')\n",
    "    table = elements[1] # this will *probably* work. It's a magic number\n",
    "\n",
    "    elements = table.find_elements(By.TAG_NAME, 'a')\n",
    "    links = [e.get_property('href') for e in elements]\n",
    "\n",
    "    artist_links = list(filter(lambda s: '/artist/' in s, links))\n",
    "    page_links = list(filter(lambda s: '/tab/' in s, links))\n",
    "\n",
    "    return artist_links, page_links"
   ]
  },
  {
   "cell_type": "code",
   "execution_count": 13,
   "metadata": {},
   "outputs": [
    {
     "data": {
      "text/plain": [
       "(['https://www.ultimate-guitar.com/artist/ed_sheeran_30232',\n",
       "  'https://www.ultimate-guitar.com/artist/jeff_buckley_9898',\n",
       "  'https://www.ultimate-guitar.com/artist/elvis_presley_11125',\n",
       "  'https://www.ultimate-guitar.com/artist/passenger_21762',\n",
       "  'https://www.ultimate-guitar.com/artist/john_legend_11714',\n",
       "  'https://www.ultimate-guitar.com/artist/jason_mraz_10984',\n",
       "  'https://www.ultimate-guitar.com/artist/radiohead_578',\n",
       "  'https://www.ultimate-guitar.com/artist/ed_sheeran_30232',\n",
       "  'https://www.ultimate-guitar.com/artist/vance_joy_37940',\n",
       "  'https://www.ultimate-guitar.com/artist/bruno_mars_28280',\n",
       "  'https://www.ultimate-guitar.com/artist/ed_sheeran_30232',\n",
       "  'https://www.ultimate-guitar.com/artist/oasis_734',\n",
       "  'https://www.ultimate-guitar.com/artist/pink_floyd_684',\n",
       "  'https://www.ultimate-guitar.com/artist/justin_bieber_25667',\n",
       "  'https://www.ultimate-guitar.com/artist/goo_goo_dolls_1375',\n",
       "  'https://www.ultimate-guitar.com/artist/eagles_1509',\n",
       "  'https://www.ultimate-guitar.com/artist/coldplay_1782',\n",
       "  'https://www.ultimate-guitar.com/artist/adele_20519',\n",
       "  'https://www.ultimate-guitar.com/artist/taylor_swift_16027',\n",
       "  'https://www.ultimate-guitar.com/artist/coldplay_1782',\n",
       "  'https://www.ultimate-guitar.com/artist/oasis_734',\n",
       "  'https://www.ultimate-guitar.com/artist/oasis_734',\n",
       "  'https://www.ultimate-guitar.com/artist/paramore_11926',\n",
       "  'https://www.ultimate-guitar.com/artist/the_animals_2019',\n",
       "  'https://www.ultimate-guitar.com/artist/ed_sheeran_30232',\n",
       "  'https://www.ultimate-guitar.com/artist/train_250',\n",
       "  'https://www.ultimate-guitar.com/artist/john_denver_10167',\n",
       "  'https://www.ultimate-guitar.com/artist/the_beatles_1916',\n",
       "  'https://www.ultimate-guitar.com/artist/misc_soundtrack_910',\n",
       "  'https://www.ultimate-guitar.com/artist/lady_gaga_21818',\n",
       "  'https://www.ultimate-guitar.com/artist/bradley_cooper_160847',\n",
       "  'https://www.ultimate-guitar.com/artist/plain_white_ts_3257',\n",
       "  'https://www.ultimate-guitar.com/artist/coldplay_1782',\n",
       "  'https://www.ultimate-guitar.com/artist/oasis_734',\n",
       "  'https://www.ultimate-guitar.com/artist/green_day_1368',\n",
       "  'https://www.ultimate-guitar.com/artist/extreme_1498',\n",
       "  'https://www.ultimate-guitar.com/artist/kodaline_38213',\n",
       "  'https://www.ultimate-guitar.com/artist/john_lennon_10753',\n",
       "  'https://www.ultimate-guitar.com/artist/adele_20519',\n",
       "  'https://www.ultimate-guitar.com/artist/johnny_cash_10001',\n",
       "  'https://www.ultimate-guitar.com/artist/the_beatles_1916',\n",
       "  'https://www.ultimate-guitar.com/artist/the_cranberries_1779',\n",
       "  'https://www.ultimate-guitar.com/artist/imagine_dragons_36784',\n",
       "  'https://www.ultimate-guitar.com/artist/creedence_clearwater_revival_1746',\n",
       "  'https://www.ultimate-guitar.com/artist/frank_sinatra_11333',\n",
       "  'https://www.ultimate-guitar.com/artist/count_basie_82849',\n",
       "  'https://www.ultimate-guitar.com/artist/lewis_capaldi_76757',\n",
       "  'https://www.ultimate-guitar.com/artist/green_day_1368',\n",
       "  'https://www.ultimate-guitar.com/artist/the_beatles_1916',\n",
       "  'https://www.ultimate-guitar.com/artist/james_arthur_38784',\n",
       "  'https://www.ultimate-guitar.com/artist/bruno_mars_28280',\n",
       "  'https://www.ultimate-guitar.com/artist/onerepublic_15735',\n",
       "  'https://www.ultimate-guitar.com/artist/taylor_swift_16027'],\n",
       " ['https://tabs.ultimate-guitar.com/tab/ed-sheeran/perfect-chords-1956589',\n",
       "  'https://tabs.ultimate-guitar.com/tab/jeff-buckley/hallelujah-chords-198052',\n",
       "  'https://tabs.ultimate-guitar.com/tab/elvis-presley/cant-help-falling-in-love-chords-1086983',\n",
       "  'https://tabs.ultimate-guitar.com/tab/passenger/let-her-go-chords-1137467',\n",
       "  'https://tabs.ultimate-guitar.com/tab/john-legend/all-of-me-chords-1248578',\n",
       "  'https://tabs.ultimate-guitar.com/tab/jason-mraz/im-yours-chords-373896',\n",
       "  'https://tabs.ultimate-guitar.com/tab/radiohead/creep-chords-4169',\n",
       "  'https://tabs.ultimate-guitar.com/tab/ed-sheeran/thinking-out-loud-chords-1486860',\n",
       "  'https://tabs.ultimate-guitar.com/tab/vance-joy/riptide-chords-1237247',\n",
       "  'https://tabs.ultimate-guitar.com/tab/bruno-mars/when-i-was-your-man-chords-1198871',\n",
       "  'https://tabs.ultimate-guitar.com/tab/ed-sheeran/photograph-chords-1493446',\n",
       "  'https://tabs.ultimate-guitar.com/tab/oasis/dont-look-back-in-anger-chords-6097',\n",
       "  'https://tabs.ultimate-guitar.com/tab/pink-floyd/wish-you-were-here-chords-44555',\n",
       "  'https://tabs.ultimate-guitar.com/tab/justin-bieber/love-yourself-chords-1780199',\n",
       "  'https://tabs.ultimate-guitar.com/tab/goo-goo-dolls/iris-chords-54512',\n",
       "  'https://tabs.ultimate-guitar.com/tab/eagles/hotel-california-chords-46190',\n",
       "  'https://tabs.ultimate-guitar.com/tab/coldplay/the-scientist-chords-180849',\n",
       "  'https://tabs.ultimate-guitar.com/tab/adele/someone-like-you-chords-1006040',\n",
       "  'https://tabs.ultimate-guitar.com/tab/taylor-swift/love-story-chords-730809',\n",
       "  'https://tabs.ultimate-guitar.com/tab/coldplay/viva-la-vida-chords-675427',\n",
       "  'https://tabs.ultimate-guitar.com/tab/oasis/wonderwall-chords-27596',\n",
       "  'https://tabs.ultimate-guitar.com/tab/oasis/wonderwall-chords-39144',\n",
       "  'https://tabs.ultimate-guitar.com/tab/paramore/the-only-exception-chords-874862',\n",
       "  'https://tabs.ultimate-guitar.com/tab/the-animals/house-of-the-rising-sun-chords-18688',\n",
       "  'https://tabs.ultimate-guitar.com/tab/ed-sheeran/i-see-fire-chords-1430599',\n",
       "  'https://tabs.ultimate-guitar.com/tab/train/hey-soul-sister-chords-884388',\n",
       "  'https://tabs.ultimate-guitar.com/tab/john-denver/take-me-home-country-roads-chords-1101747',\n",
       "  'https://tabs.ultimate-guitar.com/tab/the-beatles/let-it-be-chords-17427',\n",
       "  'https://tabs.ultimate-guitar.com/tab/misc-soundtrack/a-star-is-born-shallow-chords-2488086',\n",
       "  'https://tabs.ultimate-guitar.com/tab/plain-white-ts/hey-there-delilah-chords-337676',\n",
       "  'https://tabs.ultimate-guitar.com/tab/coldplay/yellow-chords-114080',\n",
       "  'https://tabs.ultimate-guitar.com/tab/oasis/wonderwall-chords-6125',\n",
       "  'https://tabs.ultimate-guitar.com/tab/green-day/boulevard-of-broken-dreams-chords-146744',\n",
       "  'https://tabs.ultimate-guitar.com/tab/extreme/more-than-words-chords-14087',\n",
       "  'https://tabs.ultimate-guitar.com/tab/kodaline/all-i-want-chords-1180259',\n",
       "  'https://tabs.ultimate-guitar.com/tab/john-lennon/imagine-chords-9306',\n",
       "  'https://tabs.ultimate-guitar.com/tab/adele/someone-like-you-chords-1006751',\n",
       "  'https://tabs.ultimate-guitar.com/tab/johnny-cash/hurt-chords-89849',\n",
       "  'https://tabs.ultimate-guitar.com/tab/the-beatles/yesterday-chords-17450',\n",
       "  'https://tabs.ultimate-guitar.com/tab/the-cranberries/zombie-chords-844902',\n",
       "  'https://tabs.ultimate-guitar.com/tab/imagine-dragons/radioactive-chords-1171909',\n",
       "  'https://tabs.ultimate-guitar.com/tab/creedence-clearwater-revival/have-you-ever-seen-the-rain-chords-56479',\n",
       "  'https://tabs.ultimate-guitar.com/tab/frank-sinatra/fly-me-to-the-moon-chords-335196',\n",
       "  'https://tabs.ultimate-guitar.com/tab/lewis-capaldi/someone-you-loved-chords-2512737',\n",
       "  'https://tabs.ultimate-guitar.com/tab/green-day/good-riddance-time-of-your-life-chords-12835',\n",
       "  'https://tabs.ultimate-guitar.com/tab/the-beatles/hey-jude-chords-17275',\n",
       "  'https://tabs.ultimate-guitar.com/tab/james-arthur/say-you-wont-let-go-chords-1874747',\n",
       "  'https://tabs.ultimate-guitar.com/tab/bruno-mars/just-the-way-you-are-chords-970416',\n",
       "  'https://tabs.ultimate-guitar.com/tab/onerepublic/counting-stars-chords-1233464',\n",
       "  'https://tabs.ultimate-guitar.com/tab/taylor-swift/you-belong-with-me-chords-752550'])"
      ]
     },
     "execution_count": 13,
     "metadata": {},
     "output_type": "execute_result"
    }
   ],
   "source": [
    "get_page_links(0)"
   ]
  },
  {
   "cell_type": "code",
   "execution_count": 14,
   "metadata": {},
   "outputs": [
    {
     "name": "stderr",
     "output_type": "stream",
     "text": [
      "  0%|          | 0/101 [00:00<?, ?it/s]"
     ]
    },
    {
     "name": "stderr",
     "output_type": "stream",
     "text": [
      "100%|██████████| 101/101 [04:19<00:00,  2.57s/it]\n"
     ]
    }
   ],
   "source": [
    "all_artist_links = []\n",
    "all_tab_links = []\n",
    "for i in tqdm(range(0,101)):\n",
    "    artist_links, page_links = get_page_links(i)\n",
    "\n",
    "    all_artist_links += artist_links\n",
    "    all_tab_links += page_links"
   ]
  },
  {
   "cell_type": "markdown",
   "metadata": {},
   "source": [
    "I'll save this data, because I'm getting some refused connections from UG, which means they could be blocking my parser."
   ]
  },
  {
   "cell_type": "code",
   "execution_count": 45,
   "metadata": {},
   "outputs": [],
   "source": [
    "import json\n",
    "\n",
    "with open('tabs.json','w') as f:\n",
    "    json.dump(all_tab_links, f)"
   ]
  },
  {
   "cell_type": "markdown",
   "metadata": {},
   "source": [
    "## Chord Extraction\n",
    "\n",
    "Now that we have page links, we can check those pages and extract the data."
   ]
  },
  {
   "cell_type": "code",
   "execution_count": 101,
   "metadata": {},
   "outputs": [
    {
     "name": "stdout",
     "output_type": "stream",
     "text": [
      "https://tabs.ultimate-guitar.com/tab/lana-del-rey/born-to-die-chords-1117902\n"
     ]
    },
    {
     "ename": "NoSuchElementException",
     "evalue": "Message: no such element: Unable to locate element: {\"method\":\"xpath\",\"selector\":\"//tr/th[contains(text(),'Key')]/../td\"}\n  (Session info: chrome=135.0.7049.42); For documentation on this error, please visit: https://www.selenium.dev/documentation/webdriver/troubleshooting/errors#no-such-element-exception\nStacktrace:\n#0 0x5583a1838e6a <unknown>\n#1 0x5583a12ea640 <unknown>\n#2 0x5583a133bb5a <unknown>\n#3 0x5583a133bd51 <unknown>\n#4 0x5583a138a344 <unknown>\n#5 0x5583a136177d <unknown>\n#6 0x5583a13877b5 <unknown>\n#7 0x5583a1361523 <unknown>\n#8 0x5583a132def3 <unknown>\n#9 0x5583a132eb51 <unknown>\n#10 0x5583a17fdd2b <unknown>\n#11 0x5583a1801c01 <unknown>\n#12 0x5583a17e5512 <unknown>\n#13 0x5583a1802774 <unknown>\n#14 0x5583a17c990f <unknown>\n#15 0x5583a1826fb8 <unknown>\n#16 0x5583a1827196 <unknown>\n#17 0x5583a1837cb6 <unknown>\n#18 0x77397649caa4 <unknown>\n#19 0x773976529c3c <unknown>\n",
     "output_type": "error",
     "traceback": [
      "\u001b[31m---------------------------------------------------------------------------\u001b[39m",
      "\u001b[31mNoSuchElementException\u001b[39m                    Traceback (most recent call last)",
      "\u001b[36mCell\u001b[39m\u001b[36m \u001b[39m\u001b[32mIn[101]\u001b[39m\u001b[32m, line 3\u001b[39m\n\u001b[32m      1\u001b[39m driver.get(all_tab_links[\u001b[32m1000\u001b[39m])\n\u001b[32m      2\u001b[39m \u001b[38;5;28mprint\u001b[39m(driver.current_url)\n\u001b[32m----> \u001b[39m\u001b[32m3\u001b[39m \u001b[43mdriver\u001b[49m\u001b[43m.\u001b[49m\u001b[43mfind_element\u001b[49m\u001b[43m(\u001b[49m\u001b[43mBy\u001b[49m\u001b[43m.\u001b[49m\u001b[43mXPATH\u001b[49m\u001b[43m,\u001b[49m\u001b[43m \u001b[49m\u001b[33;43m\"\u001b[39;49m\u001b[33;43m//tr/th[contains(text(),\u001b[39;49m\u001b[33;43m'\u001b[39;49m\u001b[33;43mKey\u001b[39;49m\u001b[33;43m'\u001b[39;49m\u001b[33;43m)]/../td\u001b[39;49m\u001b[33;43m\"\u001b[39;49m\u001b[43m)\u001b[49m.text\n",
      "\u001b[36mFile \u001b[39m\u001b[32m~/Documents/chords/env/lib/python3.12/site-packages/selenium/webdriver/remote/webdriver.py:898\u001b[39m, in \u001b[36mWebDriver.find_element\u001b[39m\u001b[34m(self, by, value)\u001b[39m\n\u001b[32m    895\u001b[39m         \u001b[38;5;28;01mraise\u001b[39;00m NoSuchElementException(\u001b[33mf\u001b[39m\u001b[33m\"\u001b[39m\u001b[33mCannot locate relative element with: \u001b[39m\u001b[38;5;132;01m{\u001b[39;00mby.root\u001b[38;5;132;01m}\u001b[39;00m\u001b[33m\"\u001b[39m)\n\u001b[32m    896\u001b[39m     \u001b[38;5;28;01mreturn\u001b[39;00m elements[\u001b[32m0\u001b[39m]\n\u001b[32m--> \u001b[39m\u001b[32m898\u001b[39m \u001b[38;5;28;01mreturn\u001b[39;00m \u001b[38;5;28;43mself\u001b[39;49m\u001b[43m.\u001b[49m\u001b[43mexecute\u001b[49m\u001b[43m(\u001b[49m\u001b[43mCommand\u001b[49m\u001b[43m.\u001b[49m\u001b[43mFIND_ELEMENT\u001b[49m\u001b[43m,\u001b[49m\u001b[43m \u001b[49m\u001b[43m{\u001b[49m\u001b[33;43m\"\u001b[39;49m\u001b[33;43musing\u001b[39;49m\u001b[33;43m\"\u001b[39;49m\u001b[43m:\u001b[49m\u001b[43m \u001b[49m\u001b[43mby\u001b[49m\u001b[43m,\u001b[49m\u001b[43m \u001b[49m\u001b[33;43m\"\u001b[39;49m\u001b[33;43mvalue\u001b[39;49m\u001b[33;43m\"\u001b[39;49m\u001b[43m:\u001b[49m\u001b[43m \u001b[49m\u001b[43mvalue\u001b[49m\u001b[43m}\u001b[49m\u001b[43m)\u001b[49m[\u001b[33m\"\u001b[39m\u001b[33mvalue\u001b[39m\u001b[33m\"\u001b[39m]\n",
      "\u001b[36mFile \u001b[39m\u001b[32m~/Documents/chords/env/lib/python3.12/site-packages/selenium/webdriver/remote/webdriver.py:429\u001b[39m, in \u001b[36mWebDriver.execute\u001b[39m\u001b[34m(self, driver_command, params)\u001b[39m\n\u001b[32m    427\u001b[39m response = \u001b[38;5;28mself\u001b[39m.command_executor.execute(driver_command, params)\n\u001b[32m    428\u001b[39m \u001b[38;5;28;01mif\u001b[39;00m response:\n\u001b[32m--> \u001b[39m\u001b[32m429\u001b[39m     \u001b[38;5;28;43mself\u001b[39;49m\u001b[43m.\u001b[49m\u001b[43merror_handler\u001b[49m\u001b[43m.\u001b[49m\u001b[43mcheck_response\u001b[49m\u001b[43m(\u001b[49m\u001b[43mresponse\u001b[49m\u001b[43m)\u001b[49m\n\u001b[32m    430\u001b[39m     response[\u001b[33m\"\u001b[39m\u001b[33mvalue\u001b[39m\u001b[33m\"\u001b[39m] = \u001b[38;5;28mself\u001b[39m._unwrap_value(response.get(\u001b[33m\"\u001b[39m\u001b[33mvalue\u001b[39m\u001b[33m\"\u001b[39m, \u001b[38;5;28;01mNone\u001b[39;00m))\n\u001b[32m    431\u001b[39m     \u001b[38;5;28;01mreturn\u001b[39;00m response\n",
      "\u001b[36mFile \u001b[39m\u001b[32m~/Documents/chords/env/lib/python3.12/site-packages/selenium/webdriver/remote/errorhandler.py:232\u001b[39m, in \u001b[36mErrorHandler.check_response\u001b[39m\u001b[34m(self, response)\u001b[39m\n\u001b[32m    230\u001b[39m         alert_text = value[\u001b[33m\"\u001b[39m\u001b[33malert\u001b[39m\u001b[33m\"\u001b[39m].get(\u001b[33m\"\u001b[39m\u001b[33mtext\u001b[39m\u001b[33m\"\u001b[39m)\n\u001b[32m    231\u001b[39m     \u001b[38;5;28;01mraise\u001b[39;00m exception_class(message, screen, stacktrace, alert_text)  \u001b[38;5;66;03m# type: ignore[call-arg]  # mypy is not smart enough here\u001b[39;00m\n\u001b[32m--> \u001b[39m\u001b[32m232\u001b[39m \u001b[38;5;28;01mraise\u001b[39;00m exception_class(message, screen, stacktrace)\n",
      "\u001b[31mNoSuchElementException\u001b[39m: Message: no such element: Unable to locate element: {\"method\":\"xpath\",\"selector\":\"//tr/th[contains(text(),'Key')]/../td\"}\n  (Session info: chrome=135.0.7049.42); For documentation on this error, please visit: https://www.selenium.dev/documentation/webdriver/troubleshooting/errors#no-such-element-exception\nStacktrace:\n#0 0x5583a1838e6a <unknown>\n#1 0x5583a12ea640 <unknown>\n#2 0x5583a133bb5a <unknown>\n#3 0x5583a133bd51 <unknown>\n#4 0x5583a138a344 <unknown>\n#5 0x5583a136177d <unknown>\n#6 0x5583a13877b5 <unknown>\n#7 0x5583a1361523 <unknown>\n#8 0x5583a132def3 <unknown>\n#9 0x5583a132eb51 <unknown>\n#10 0x5583a17fdd2b <unknown>\n#11 0x5583a1801c01 <unknown>\n#12 0x5583a17e5512 <unknown>\n#13 0x5583a1802774 <unknown>\n#14 0x5583a17c990f <unknown>\n#15 0x5583a1826fb8 <unknown>\n#16 0x5583a1827196 <unknown>\n#17 0x5583a1837cb6 <unknown>\n#18 0x77397649caa4 <unknown>\n#19 0x773976529c3c <unknown>\n"
     ]
    }
   ],
   "source": [
    "driver.get(all_tab_links[1000])\n",
    "print(driver.current_url)\n",
    "driver.find_element(By.XPATH, \"//tr/th[contains(text(),'Key')]/../td\").text"
   ]
  },
  {
   "cell_type": "code",
   "execution_count": null,
   "metadata": {},
   "outputs": [
    {
     "name": "stdout",
     "output_type": "stream",
     "text": [
      "{'link': 'https://tabs.ultimate-guitar.com/tab/i-belong-to-the-zoo/sana-chords-2405013', 'artist': None, 'title': None, 'key': 'C', 'text_chords': ['C', 'G', 'Em', 'D', 'C', 'G', 'Em', 'D', 'C', 'G', 'D', 'G', 'D', 'Em', 'D', 'G', 'D', 'Em', 'D', 'G', 'C', 'G', 'Em', 'G', 'C', 'G', 'D', 'C', 'G', 'Em', 'G', 'C', 'G'], 'prop_chords': ['C', 'G', 'Em', 'D', 'C', 'G', 'Em', 'D', 'C', 'G', 'D', 'G', 'D', 'Em', 'D', 'G', 'D', 'Em', 'D', 'G', 'C', 'G', 'Em', 'G', 'C', 'G', 'D', 'C', 'G', 'Em', 'G', 'C', 'G']}\n"
     ]
    }
   ],
   "source": [
    "\n",
    "def get_song_data(URL):\n",
    "    driver.get(URL)\n",
    "    #ActionChains(driver).scroll_by_amount(0,10000).perform()\n",
    "\n",
    "    elements = driver.find_elements(By.CSS_SELECTOR, 'code pre span')\n",
    "    try:\n",
    "        key = driver.find_element(By.XPATH, \"//tr/th[contains(text(),'Key')]/../td\").text\n",
    "    except NoSuchElementException:\n",
    "        key = '?'\n",
    "\n",
    "    data = {\n",
    "        'link': URL,\n",
    "        'artist': None,\n",
    "        'title': None,\n",
    "        'key': key,\n",
    "        'text_chords': [e.text for e in elements],\n",
    "        'prop_chords': [e.get_attribute('data-name') for e in elements]\n",
    "    }\n",
    "\n",
    "    return data\n",
    "\n",
    "URL = all_tab_links[499]\n",
    "print(get_song_data(URL))"
   ]
  },
  {
   "cell_type": "code",
   "execution_count": null,
   "metadata": {},
   "outputs": [],
   "source": [
    "all_data = []\n",
    "chunk = []\n",
    "n = 0\n",
    "for tab_link in tqdm(all_tab_links):\n",
    "    chunk.append(get_song_data(tab_link))\n",
    "\n",
    "\n",
    "    if len(chunk) > 1000:\n",
    "        n += 1\n",
    "        all_data += chunk\n",
    "        with open(f'data/chunk{n}.json', 'w') as f:\n",
    "            json.dump(chunk, f)\n",
    "        \n",
    "        chunk = []\n",
    "\n",
    "        print(f'Finished chunk {n}')\n",
    "\n",
    "print(len(all_data))   "
   ]
  },
  {
   "cell_type": "code",
   "execution_count": null,
   "metadata": {},
   "outputs": [
    {
     "data": {
      "text/plain": [
       "['C',\n",
       " 'G',\n",
       " 'D',\n",
       " 'G',\n",
       " 'D',\n",
       " 'Em',\n",
       " 'D',\n",
       " 'G',\n",
       " 'D',\n",
       " 'Em',\n",
       " 'D',\n",
       " 'G',\n",
       " 'C',\n",
       " 'G',\n",
       " 'Em',\n",
       " 'G',\n",
       " 'C',\n",
       " 'G',\n",
       " 'D',\n",
       " 'C',\n",
       " 'G',\n",
       " 'Em',\n",
       " 'G',\n",
       " 'C',\n",
       " 'G',\n",
       " 'C',\n",
       " 'C',\n",
       " 'G',\n",
       " 'Em',\n",
       " 'D',\n",
       " 'C',\n",
       " 'G',\n",
       " 'Em',\n",
       " 'D',\n",
       " 'C',\n",
       " 'G',\n",
       " 'D',\n",
       " 'G',\n",
       " 'D',\n",
       " 'Em',\n",
       " 'D',\n",
       " 'G',\n",
       " 'D',\n",
       " 'Em',\n",
       " 'D',\n",
       " 'G',\n",
       " 'C',\n",
       " 'G',\n",
       " 'Em',\n",
       " 'G',\n",
       " 'C',\n",
       " 'G',\n",
       " 'D',\n",
       " 'C',\n",
       " 'G',\n",
       " 'Em',\n",
       " 'G',\n",
       " 'C',\n",
       " 'G',\n",
       " 'D',\n",
       " 'C',\n",
       " 'G',\n",
       " 'Em',\n",
       " 'G',\n",
       " 'C',\n",
       " 'G']"
      ]
     },
     "execution_count": 55,
     "metadata": {},
     "output_type": "execute_result"
    }
   ],
   "source": [
    "driver.get()\n",
    "ActionChains(driver).scroll_by_amount(0,1000).perform()\n",
    "\n",
    "elements = driver.find_elements(By.CSS_SELECTOR, 'code pre span')\n",
    "[e.text for e in elements]"
   ]
  }
 ],
 "metadata": {
  "kernelspec": {
   "display_name": "env",
   "language": "python",
   "name": "python3"
  },
  "language_info": {
   "codemirror_mode": {
    "name": "ipython",
    "version": 3
   },
   "file_extension": ".py",
   "mimetype": "text/x-python",
   "name": "python",
   "nbconvert_exporter": "python",
   "pygments_lexer": "ipython3",
   "version": "3.12.3"
  }
 },
 "nbformat": 4,
 "nbformat_minor": 2
}
